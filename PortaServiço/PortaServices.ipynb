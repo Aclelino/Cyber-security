{
  "nbformat": 4,
  "nbformat_minor": 0,
  "metadata": {
    "colab": {
      "provenance": []
    },
    "kernelspec": {
      "name": "python3",
      "display_name": "Python 3"
    },
    "language_info": {
      "name": "python"
    }
  },
  "cells": [
    {
      "cell_type": "markdown",
      "source": [
        "# Descrição\n",
        "Desenvolva um sistema que simule a enumeração de serviços em um servidor, dado um conjunto de portas e serviços associados. Você deve receber uma lista de números de portas e, para cada porta, retornar o serviço associado. Se a porta não estiver no dicionário, retorna \"Desconhecido\".\n",
        "\n",
        "# Entrada\n",
        "Uma lista de números de portas separados por vírgula.\n",
        "\n",
        "# Saída\n",
        "Uma lista de serviços correspondentes a essas portas.\n",
        "\n",
        "# Exemplos\n",
        "A tabela abaixo apresenta exemplos com alguns dados de entrada e suas respectivas saídas esperadas. Certifique-se de testar seu programa com esses exemplos e com outros casos possíveis."
      ],
      "metadata": {
        "id": "-Yg8lWBlABTP"
      }
    },
    {
      "cell_type": "code",
      "source": [
        "# Dicionário que mapeia números de portas aos serviços correspondentes\n",
        "port_services = {\n",
        "    21: \"FTP\",      # Serviço de transferência de arquivos\n",
        "    22: \"SSH\",      # Secure Shell (acesso remoto seguro)\n",
        "    23: \"Telnet\",   # Protocolo de acesso remoto inseguro\n",
        "    25: \"SMTP\",     # Serviço de envio de emails\n",
        "    53: \"DNS\",      # Serviço de tradução de nomes de domínio\n",
        "    80: \"HTTP\",     # Protocolo de transferência de hipertexto (web)\n",
        "    110: \"POP3\",    # Serviço de recebimento de emails\n",
        "    143: \"IMAP\",    # Serviço de recebimento de emails com suporte a pastas\n",
        "    443: \"HTTPS\",   # Protocolo seguro de transferência de hipertexto\n",
        "    3306: \"MySQL\",  # Banco de dados MySQL\n",
        "    3389: \"RDP\",    # Remote Desktop Protocol (Acesso remoto ao Windows)\n",
        "    5432: \"PostgreSQL\", # Banco de dados PostgreSQL\n",
        "    6379: \"Redis\"   # Banco de dados Redis\n",
        "}\n",
        "\n",
        "# Função que realiza a enumeração de serviços\n",
        "def enumerate_services(ports):\n",
        "    # Inicializamos uma lista para armazenar os serviços correspondentes\n",
        "    services = []\n",
        "\n",
        "    # TODO: Itere sobre cada porta fornecida na lista de portas\n",
        "    for port_input in ports:\n",
        "        # TODO: Verifique se a porta existe no dicionário de serviços\n",
        "        if port_input in port_services:\n",
        "\n",
        "            # TODO: Se existir, adicione o serviço correspondente à lista de serviços\n",
        "            services.append(port_services[port_input])\n",
        "\n",
        "            # TODO: Se a porta não estiver mapeada, adicione \"Desconhecido\"\n",
        "        else:\n",
        "\n",
        "          services.append(\"Desconhecido\")\n",
        "\n",
        "\n",
        "    return services\n",
        "\n",
        "# Função principal que lida com a entrada do usuário e exibe o resultado:\n",
        "def main():\n",
        "    ports_input = input()\n",
        "\n",
        "\n",
        "\n",
        "    # Utilize a função strip() para remove espaços em branco, e o split() para separar por vírgula\n",
        "    ports_input = ports_input.strip().split(\",\")\n",
        "    # TODO: Converta a string de entrada para uma lista de inteiros (números de portas)\n",
        "    ports_input = [int(ports) for ports in ports_input]\n",
        "    # TODO: Chame a função de enumeração para obter a lista de serviços correspondentes:\n",
        "    services = enumerate_services(ports_input)\n",
        "\n",
        "    print(services)\n",
        "\n",
        "\n",
        "if __name__ == \"__main__\":\n",
        "    main()"
      ],
      "metadata": {
        "id": "Pp6W3Q5mACfL"
      },
      "execution_count": null,
      "outputs": []
    }
  ]
}